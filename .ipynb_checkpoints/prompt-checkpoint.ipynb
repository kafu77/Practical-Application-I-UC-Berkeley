{
 "cells": [
  {
   "cell_type": "markdown",
   "metadata": {},
   "source": [
    "### Will a Customer Accept the Coupon?\n",
    "\n",
    "**Context**\n",
    "\n",
    "Imagine driving through town and a coupon is delivered to your cell phone for a restaraunt near where you are driving. Would you accept that coupon and take a short detour to the restaraunt? Would you accept the coupon but use it on a sunbsequent trip? Would you ignore the coupon entirely? What if the coupon was for a bar instead of a restaraunt? What about a coffee house? Would you accept a bar coupon with a minor passenger in the car? What about if it was just you and your partner in the car? Would weather impact the rate of acceptance? What about the time of day?\n",
    "\n",
    "Obviously, proximity to the business is a factor on whether the coupon is delivered to the driver or not, but what are the factors that determine whether a driver accepts the coupon once it is delivered to them? How would you determine whether a driver is likely to accept a coupon?\n",
    "\n",
    "**Overview**\n",
    "\n",
    "The goal of this project is to use what you know about visualizations and probability distributions to distinguish between customers who accepted a driving coupon versus those that did not.\n",
    "\n",
    "**Data**\n",
    "\n",
    "This data comes to us from the UCI Machine Learning repository and was collected via a survey on Amazon Mechanical Turk. The survey describes different driving scenarios including the destination, current time, weather, passenger, etc., and then ask the person whether he will accept the coupon if he is the driver. Answers that the user will drive there ‘right away’ or ‘later before the coupon expires’ are labeled as ‘Y = 1’ and answers ‘no, I do not want the coupon’ are labeled as ‘Y = 0’.  There are five different types of coupons -- less expensive restaurants (under \\\\$20), coffee houses, carry out & take away, bar, and more expensive restaurants (\\\\$20 - \\\\$50). "
   ]
  },
  {
   "cell_type": "markdown",
   "metadata": {},
   "source": [
    "**Deliverables**\n",
    "\n",
    "Your final product should be a brief report that highlights the differences between customers who did and did not accept the coupons.  To explore the data you will utilize your knowledge of plotting, statistical summaries, and visualization using Python. You will publish your findings in a public facing github repository as your first portfolio piece. \n",
    "\n",
    "\n",
    "\n"
   ]
  },
  {
   "cell_type": "markdown",
   "metadata": {},
   "source": [
    "### Data Description\n",
    "\n",
    "The attributes of this data set include:\n",
    "1. User attributes\n",
    "    -  Gender: male, female\n",
    "    -  Age: below 21, 21 to 25, 26 to 30, etc.\n",
    "    -  Marital Status: single, married partner, unmarried partner, or widowed\n",
    "    -  Number of children: 0, 1, or more than 1\n",
    "    -  Education: high school, bachelors degree, associates degree, or graduate degree\n",
    "    -  Occupation: architecture & engineering, business & financial, etc.\n",
    "    -  Annual income: less than \\\\$12500, \\\\$12500 - \\\\$24999, \\\\$25000 - \\\\$37499, etc.\n",
    "    -  Number of times that he/she goes to a bar: 0, less than 1, 1 to 3, 4 to 8 or greater than 8\n",
    "    -  Number of times that he/she buys takeaway food: 0, less than 1, 1 to 3, 4 to 8 or greater\n",
    "    than 8\n",
    "    -  Number of times that he/she goes to a coffee house: 0, less than 1, 1 to 3, 4 to 8 or\n",
    "    greater than 8\n",
    "    -  Number of times that he/she eats at a restaurant with average expense less than \\\\$20 per\n",
    "    person: 0, less than 1, 1 to 3, 4 to 8 or greater than 8\n",
    "    -  Number of times that he/she goes to a bar: 0, less than 1, 1 to 3, 4 to 8 or greater than 8\n",
    "    \n",
    "\n",
    "2. Contextual attributes\n",
    "    - Driving destination: home, work, or no urgent destination\n",
    "    - Location of user, coupon and destination: we provide a map to show the geographical\n",
    "    location of the user, destination, and the venue, and we mark the distance between each\n",
    "    two places with time of driving. The user can see whether the venue is in the same\n",
    "    direction as the destination.\n",
    "    - Weather: sunny, rainy, or snowy\n",
    "    - Temperature: 30F, 55F, or 80F\n",
    "    - Time: 10AM, 2PM, or 6PM\n",
    "    - Passenger: alone, partner, kid(s), or friend(s)\n",
    "\n",
    "\n",
    "3. Coupon attributes\n",
    "    - time before it expires: 2 hours or one day"
   ]
  },
  {
   "cell_type": "code",
   "execution_count": 1,
   "metadata": {},
   "outputs": [
    {
     "data": {
      "text/html": [
       "        <script type=\"text/javascript\">\n",
       "        window.PlotlyConfig = {MathJaxConfig: 'local'};\n",
       "        if (window.MathJax && window.MathJax.Hub && window.MathJax.Hub.Config) {window.MathJax.Hub.Config({SVG: {font: \"STIX-Web\"}});}\n",
       "        if (typeof require !== 'undefined') {\n",
       "        require.undef(\"plotly\");\n",
       "        requirejs.config({\n",
       "            paths: {\n",
       "                'plotly': ['https://cdn.plot.ly/plotly-2.12.1.min']\n",
       "            }\n",
       "        });\n",
       "        require(['plotly'], function(Plotly) {\n",
       "            window._Plotly = Plotly;\n",
       "        });\n",
       "        }\n",
       "        </script>\n",
       "        "
      ]
     },
     "metadata": {},
     "output_type": "display_data"
    }
   ],
   "source": [
    "import numpy as np\n",
    "import matplotlib.pyplot as plt\n",
    "import seaborn as sns\n",
    "import pandas as pd\n",
    "import plotly.express as px\n",
    "import cufflinks as cf\n",
    "cf.go_offline()\n",
    "%matplotlib inline"
   ]
  },
  {
   "cell_type": "markdown",
   "metadata": {},
   "source": [
    "### Problems\n",
    "\n",
    "Use the prompts below to get started with your data analysis.  \n",
    "\n",
    "1. Read in the `coupons.csv` file.\n",
    "\n",
    "\n"
   ]
  },
  {
   "cell_type": "code",
   "execution_count": 2,
   "metadata": {},
   "outputs": [
    {
     "ename": "FileNotFoundError",
     "evalue": "[Errno 2] No such file or directory: 'data/coupons.csv'",
     "output_type": "error",
     "traceback": [
      "\u001b[1;31m---------------------------------------------------------------------------\u001b[0m",
      "\u001b[1;31mFileNotFoundError\u001b[0m                         Traceback (most recent call last)",
      "\u001b[1;32m~\\AppData\\Local\\Temp/ipykernel_3444/1798706139.py\u001b[0m in \u001b[0;36m<module>\u001b[1;34m\u001b[0m\n\u001b[1;32m----> 1\u001b[1;33m \u001b[0mdata\u001b[0m \u001b[1;33m=\u001b[0m \u001b[0mpd\u001b[0m\u001b[1;33m.\u001b[0m\u001b[0mread_csv\u001b[0m\u001b[1;33m(\u001b[0m\u001b[1;34m'data/coupons.csv'\u001b[0m\u001b[1;33m)\u001b[0m\u001b[1;33m\u001b[0m\u001b[1;33m\u001b[0m\u001b[0m\n\u001b[0m",
      "\u001b[1;32m~\\anaconda3\\lib\\site-packages\\pandas\\util\\_decorators.py\u001b[0m in \u001b[0;36mwrapper\u001b[1;34m(*args, **kwargs)\u001b[0m\n\u001b[0;32m    309\u001b[0m                     \u001b[0mstacklevel\u001b[0m\u001b[1;33m=\u001b[0m\u001b[0mstacklevel\u001b[0m\u001b[1;33m,\u001b[0m\u001b[1;33m\u001b[0m\u001b[1;33m\u001b[0m\u001b[0m\n\u001b[0;32m    310\u001b[0m                 )\n\u001b[1;32m--> 311\u001b[1;33m             \u001b[1;32mreturn\u001b[0m \u001b[0mfunc\u001b[0m\u001b[1;33m(\u001b[0m\u001b[1;33m*\u001b[0m\u001b[0margs\u001b[0m\u001b[1;33m,\u001b[0m \u001b[1;33m**\u001b[0m\u001b[0mkwargs\u001b[0m\u001b[1;33m)\u001b[0m\u001b[1;33m\u001b[0m\u001b[1;33m\u001b[0m\u001b[0m\n\u001b[0m\u001b[0;32m    312\u001b[0m \u001b[1;33m\u001b[0m\u001b[0m\n\u001b[0;32m    313\u001b[0m         \u001b[1;32mreturn\u001b[0m \u001b[0mwrapper\u001b[0m\u001b[1;33m\u001b[0m\u001b[1;33m\u001b[0m\u001b[0m\n",
      "\u001b[1;32m~\\anaconda3\\lib\\site-packages\\pandas\\io\\parsers\\readers.py\u001b[0m in \u001b[0;36mread_csv\u001b[1;34m(filepath_or_buffer, sep, delimiter, header, names, index_col, usecols, squeeze, prefix, mangle_dupe_cols, dtype, engine, converters, true_values, false_values, skipinitialspace, skiprows, skipfooter, nrows, na_values, keep_default_na, na_filter, verbose, skip_blank_lines, parse_dates, infer_datetime_format, keep_date_col, date_parser, dayfirst, cache_dates, iterator, chunksize, compression, thousands, decimal, lineterminator, quotechar, quoting, doublequote, escapechar, comment, encoding, encoding_errors, dialect, error_bad_lines, warn_bad_lines, on_bad_lines, delim_whitespace, low_memory, memory_map, float_precision, storage_options)\u001b[0m\n\u001b[0;32m    584\u001b[0m     \u001b[0mkwds\u001b[0m\u001b[1;33m.\u001b[0m\u001b[0mupdate\u001b[0m\u001b[1;33m(\u001b[0m\u001b[0mkwds_defaults\u001b[0m\u001b[1;33m)\u001b[0m\u001b[1;33m\u001b[0m\u001b[1;33m\u001b[0m\u001b[0m\n\u001b[0;32m    585\u001b[0m \u001b[1;33m\u001b[0m\u001b[0m\n\u001b[1;32m--> 586\u001b[1;33m     \u001b[1;32mreturn\u001b[0m \u001b[0m_read\u001b[0m\u001b[1;33m(\u001b[0m\u001b[0mfilepath_or_buffer\u001b[0m\u001b[1;33m,\u001b[0m \u001b[0mkwds\u001b[0m\u001b[1;33m)\u001b[0m\u001b[1;33m\u001b[0m\u001b[1;33m\u001b[0m\u001b[0m\n\u001b[0m\u001b[0;32m    587\u001b[0m \u001b[1;33m\u001b[0m\u001b[0m\n\u001b[0;32m    588\u001b[0m \u001b[1;33m\u001b[0m\u001b[0m\n",
      "\u001b[1;32m~\\anaconda3\\lib\\site-packages\\pandas\\io\\parsers\\readers.py\u001b[0m in \u001b[0;36m_read\u001b[1;34m(filepath_or_buffer, kwds)\u001b[0m\n\u001b[0;32m    480\u001b[0m \u001b[1;33m\u001b[0m\u001b[0m\n\u001b[0;32m    481\u001b[0m     \u001b[1;31m# Create the parser.\u001b[0m\u001b[1;33m\u001b[0m\u001b[1;33m\u001b[0m\u001b[0m\n\u001b[1;32m--> 482\u001b[1;33m     \u001b[0mparser\u001b[0m \u001b[1;33m=\u001b[0m \u001b[0mTextFileReader\u001b[0m\u001b[1;33m(\u001b[0m\u001b[0mfilepath_or_buffer\u001b[0m\u001b[1;33m,\u001b[0m \u001b[1;33m**\u001b[0m\u001b[0mkwds\u001b[0m\u001b[1;33m)\u001b[0m\u001b[1;33m\u001b[0m\u001b[1;33m\u001b[0m\u001b[0m\n\u001b[0m\u001b[0;32m    483\u001b[0m \u001b[1;33m\u001b[0m\u001b[0m\n\u001b[0;32m    484\u001b[0m     \u001b[1;32mif\u001b[0m \u001b[0mchunksize\u001b[0m \u001b[1;32mor\u001b[0m \u001b[0miterator\u001b[0m\u001b[1;33m:\u001b[0m\u001b[1;33m\u001b[0m\u001b[1;33m\u001b[0m\u001b[0m\n",
      "\u001b[1;32m~\\anaconda3\\lib\\site-packages\\pandas\\io\\parsers\\readers.py\u001b[0m in \u001b[0;36m__init__\u001b[1;34m(self, f, engine, **kwds)\u001b[0m\n\u001b[0;32m    809\u001b[0m             \u001b[0mself\u001b[0m\u001b[1;33m.\u001b[0m\u001b[0moptions\u001b[0m\u001b[1;33m[\u001b[0m\u001b[1;34m\"has_index_names\"\u001b[0m\u001b[1;33m]\u001b[0m \u001b[1;33m=\u001b[0m \u001b[0mkwds\u001b[0m\u001b[1;33m[\u001b[0m\u001b[1;34m\"has_index_names\"\u001b[0m\u001b[1;33m]\u001b[0m\u001b[1;33m\u001b[0m\u001b[1;33m\u001b[0m\u001b[0m\n\u001b[0;32m    810\u001b[0m \u001b[1;33m\u001b[0m\u001b[0m\n\u001b[1;32m--> 811\u001b[1;33m         \u001b[0mself\u001b[0m\u001b[1;33m.\u001b[0m\u001b[0m_engine\u001b[0m \u001b[1;33m=\u001b[0m \u001b[0mself\u001b[0m\u001b[1;33m.\u001b[0m\u001b[0m_make_engine\u001b[0m\u001b[1;33m(\u001b[0m\u001b[0mself\u001b[0m\u001b[1;33m.\u001b[0m\u001b[0mengine\u001b[0m\u001b[1;33m)\u001b[0m\u001b[1;33m\u001b[0m\u001b[1;33m\u001b[0m\u001b[0m\n\u001b[0m\u001b[0;32m    812\u001b[0m \u001b[1;33m\u001b[0m\u001b[0m\n\u001b[0;32m    813\u001b[0m     \u001b[1;32mdef\u001b[0m \u001b[0mclose\u001b[0m\u001b[1;33m(\u001b[0m\u001b[0mself\u001b[0m\u001b[1;33m)\u001b[0m\u001b[1;33m:\u001b[0m\u001b[1;33m\u001b[0m\u001b[1;33m\u001b[0m\u001b[0m\n",
      "\u001b[1;32m~\\anaconda3\\lib\\site-packages\\pandas\\io\\parsers\\readers.py\u001b[0m in \u001b[0;36m_make_engine\u001b[1;34m(self, engine)\u001b[0m\n\u001b[0;32m   1038\u001b[0m             )\n\u001b[0;32m   1039\u001b[0m         \u001b[1;31m# error: Too many arguments for \"ParserBase\"\u001b[0m\u001b[1;33m\u001b[0m\u001b[1;33m\u001b[0m\u001b[0m\n\u001b[1;32m-> 1040\u001b[1;33m         \u001b[1;32mreturn\u001b[0m \u001b[0mmapping\u001b[0m\u001b[1;33m[\u001b[0m\u001b[0mengine\u001b[0m\u001b[1;33m]\u001b[0m\u001b[1;33m(\u001b[0m\u001b[0mself\u001b[0m\u001b[1;33m.\u001b[0m\u001b[0mf\u001b[0m\u001b[1;33m,\u001b[0m \u001b[1;33m**\u001b[0m\u001b[0mself\u001b[0m\u001b[1;33m.\u001b[0m\u001b[0moptions\u001b[0m\u001b[1;33m)\u001b[0m  \u001b[1;31m# type: ignore[call-arg]\u001b[0m\u001b[1;33m\u001b[0m\u001b[1;33m\u001b[0m\u001b[0m\n\u001b[0m\u001b[0;32m   1041\u001b[0m \u001b[1;33m\u001b[0m\u001b[0m\n\u001b[0;32m   1042\u001b[0m     \u001b[1;32mdef\u001b[0m \u001b[0m_failover_to_python\u001b[0m\u001b[1;33m(\u001b[0m\u001b[0mself\u001b[0m\u001b[1;33m)\u001b[0m\u001b[1;33m:\u001b[0m\u001b[1;33m\u001b[0m\u001b[1;33m\u001b[0m\u001b[0m\n",
      "\u001b[1;32m~\\anaconda3\\lib\\site-packages\\pandas\\io\\parsers\\c_parser_wrapper.py\u001b[0m in \u001b[0;36m__init__\u001b[1;34m(self, src, **kwds)\u001b[0m\n\u001b[0;32m     49\u001b[0m \u001b[1;33m\u001b[0m\u001b[0m\n\u001b[0;32m     50\u001b[0m         \u001b[1;31m# open handles\u001b[0m\u001b[1;33m\u001b[0m\u001b[1;33m\u001b[0m\u001b[0m\n\u001b[1;32m---> 51\u001b[1;33m         \u001b[0mself\u001b[0m\u001b[1;33m.\u001b[0m\u001b[0m_open_handles\u001b[0m\u001b[1;33m(\u001b[0m\u001b[0msrc\u001b[0m\u001b[1;33m,\u001b[0m \u001b[0mkwds\u001b[0m\u001b[1;33m)\u001b[0m\u001b[1;33m\u001b[0m\u001b[1;33m\u001b[0m\u001b[0m\n\u001b[0m\u001b[0;32m     52\u001b[0m         \u001b[1;32massert\u001b[0m \u001b[0mself\u001b[0m\u001b[1;33m.\u001b[0m\u001b[0mhandles\u001b[0m \u001b[1;32mis\u001b[0m \u001b[1;32mnot\u001b[0m \u001b[1;32mNone\u001b[0m\u001b[1;33m\u001b[0m\u001b[1;33m\u001b[0m\u001b[0m\n\u001b[0;32m     53\u001b[0m \u001b[1;33m\u001b[0m\u001b[0m\n",
      "\u001b[1;32m~\\anaconda3\\lib\\site-packages\\pandas\\io\\parsers\\base_parser.py\u001b[0m in \u001b[0;36m_open_handles\u001b[1;34m(self, src, kwds)\u001b[0m\n\u001b[0;32m    220\u001b[0m         \u001b[0mLet\u001b[0m \u001b[0mthe\u001b[0m \u001b[0mreaders\u001b[0m \u001b[0mopen\u001b[0m \u001b[0mIOHandles\u001b[0m \u001b[0mafter\u001b[0m \u001b[0mthey\u001b[0m \u001b[0mare\u001b[0m \u001b[0mdone\u001b[0m \u001b[1;32mwith\u001b[0m \u001b[0mtheir\u001b[0m \u001b[0mpotential\u001b[0m \u001b[0mraises\u001b[0m\u001b[1;33m.\u001b[0m\u001b[1;33m\u001b[0m\u001b[1;33m\u001b[0m\u001b[0m\n\u001b[0;32m    221\u001b[0m         \"\"\"\n\u001b[1;32m--> 222\u001b[1;33m         self.handles = get_handle(\n\u001b[0m\u001b[0;32m    223\u001b[0m             \u001b[0msrc\u001b[0m\u001b[1;33m,\u001b[0m\u001b[1;33m\u001b[0m\u001b[1;33m\u001b[0m\u001b[0m\n\u001b[0;32m    224\u001b[0m             \u001b[1;34m\"r\"\u001b[0m\u001b[1;33m,\u001b[0m\u001b[1;33m\u001b[0m\u001b[1;33m\u001b[0m\u001b[0m\n",
      "\u001b[1;32m~\\anaconda3\\lib\\site-packages\\pandas\\io\\common.py\u001b[0m in \u001b[0;36mget_handle\u001b[1;34m(path_or_buf, mode, encoding, compression, memory_map, is_text, errors, storage_options)\u001b[0m\n\u001b[0;32m    700\u001b[0m         \u001b[1;32mif\u001b[0m \u001b[0mioargs\u001b[0m\u001b[1;33m.\u001b[0m\u001b[0mencoding\u001b[0m \u001b[1;32mand\u001b[0m \u001b[1;34m\"b\"\u001b[0m \u001b[1;32mnot\u001b[0m \u001b[1;32min\u001b[0m \u001b[0mioargs\u001b[0m\u001b[1;33m.\u001b[0m\u001b[0mmode\u001b[0m\u001b[1;33m:\u001b[0m\u001b[1;33m\u001b[0m\u001b[1;33m\u001b[0m\u001b[0m\n\u001b[0;32m    701\u001b[0m             \u001b[1;31m# Encoding\u001b[0m\u001b[1;33m\u001b[0m\u001b[1;33m\u001b[0m\u001b[0m\n\u001b[1;32m--> 702\u001b[1;33m             handle = open(\n\u001b[0m\u001b[0;32m    703\u001b[0m                 \u001b[0mhandle\u001b[0m\u001b[1;33m,\u001b[0m\u001b[1;33m\u001b[0m\u001b[1;33m\u001b[0m\u001b[0m\n\u001b[0;32m    704\u001b[0m                 \u001b[0mioargs\u001b[0m\u001b[1;33m.\u001b[0m\u001b[0mmode\u001b[0m\u001b[1;33m,\u001b[0m\u001b[1;33m\u001b[0m\u001b[1;33m\u001b[0m\u001b[0m\n",
      "\u001b[1;31mFileNotFoundError\u001b[0m: [Errno 2] No such file or directory: 'data/coupons.csv'"
     ]
    }
   ],
   "source": [
    "data = pd.read_csv('data/coupons.csv')"
   ]
  },
  {
   "cell_type": "code",
   "execution_count": null,
   "metadata": {
    "scrolled": false
   },
   "outputs": [],
   "source": [
    "data.head()"
   ]
  },
  {
   "cell_type": "markdown",
   "metadata": {},
   "source": [
    "# First checking number of rows and columns, the dimension, and summary of the data"
   ]
  },
  {
   "cell_type": "code",
   "execution_count": null,
   "metadata": {},
   "outputs": [],
   "source": [
    "data.index"
   ]
  },
  {
   "cell_type": "code",
   "execution_count": null,
   "metadata": {},
   "outputs": [],
   "source": [
    "data.columns "
   ]
  },
  {
   "cell_type": "code",
   "execution_count": null,
   "metadata": {},
   "outputs": [],
   "source": [
    "data.info()"
   ]
  },
  {
   "cell_type": "code",
   "execution_count": null,
   "metadata": {},
   "outputs": [],
   "source": [
    "data.shape"
   ]
  },
  {
   "cell_type": "markdown",
   "metadata": {},
   "source": [
    "Summary:From the above information, the dataset has 12684 entries and 26 columns. Each entries has a 1 step."
   ]
  },
  {
   "cell_type": "markdown",
   "metadata": {},
   "source": [
    "# Geting some descriptive statistics of the dataset"
   ]
  },
  {
   "cell_type": "code",
   "execution_count": null,
   "metadata": {},
   "outputs": [],
   "source": [
    "data.describe()"
   ]
  },
  {
   "cell_type": "markdown",
   "metadata": {},
   "source": [
    "The describe function only provided statitcal information of columns of the dataset that has only numerical value.\n",
    "\n",
    "Note from descriptive statistics:\n",
    "\n",
    "From the above statistics we have seen that min,max,mean, std, and quartils of the dataset that has a numeric value column.\n"
   ]
  },
  {
   "cell_type": "markdown",
   "metadata": {},
   "source": [
    "# 2. Investigate the dataset for missing or problematic data.\n",
    "\n",
    "Suggestion: Befor we start to add and delete the missing data, it is good idea to have a copy of the original data"
   ]
  },
  {
   "cell_type": "code",
   "execution_count": null,
   "metadata": {},
   "outputs": [],
   "source": [
    "# this is the copy of the original dataset \n",
    "data_copy=data.copy()"
   ]
  },
  {
   "cell_type": "code",
   "execution_count": null,
   "metadata": {},
   "outputs": [],
   "source": [
    "# Now you can add and drop the missing data\n",
    "pd.options.display.max_columns=None\n",
    "data.head(3)"
   ]
  },
  {
   "cell_type": "code",
   "execution_count": null,
   "metadata": {},
   "outputs": [],
   "source": [
    "data.dtypes"
   ]
  },
  {
   "cell_type": "markdown",
   "metadata": {},
   "source": [
    "# To check the missing values from the dataset, isnull() function is a good tool to perform it"
   ]
  },
  {
   "cell_type": "code",
   "execution_count": null,
   "metadata": {
    "scrolled": true
   },
   "outputs": [],
   "source": [
    "data.isnull().sum()"
   ]
  },
  {
   "cell_type": "markdown",
   "metadata": {},
   "source": [
    "summary: The results from the above .isnull() function, the columns car,Bar,coffeehouse,carryAway,RestaurantLessThan20,and\n",
    "          Restaurant20To50 have a missing values. "
   ]
  },
  {
   "cell_type": "code",
   "execution_count": null,
   "metadata": {},
   "outputs": [],
   "source": [
    "# get percentage of missing value\n",
    "data.isnull().sum()/data.shape[0]*100"
   ]
  },
  {
   "cell_type": "markdown",
   "metadata": {},
   "source": [
    "Summary: Car column has more 99% missing values and Bar,coffeehouse,carryAway,RestaurantLessThan20,and Restaurant20To50 have under 2% missing values."
   ]
  },
  {
   "cell_type": "markdown",
   "metadata": {},
   "source": [
    "# Since most columns has no missing value, the ratio is 0.00. Lets grap only columns that has a missing value, greater than 0"
   ]
  },
  {
   "cell_type": "code",
   "execution_count": null,
   "metadata": {},
   "outputs": [],
   "source": [
    "# All missing values greater than 0\n",
    "for columns in data.columns:\n",
    "    if data[columns].isnull().sum()>0:\n",
    "        print(columns,':missing data in percentage is {values_gt0:.2f}%'.format(values_gt0=data[columns].isnull().sum()/data[columns].shape[0]*100))"
   ]
  },
  {
   "cell_type": "markdown",
   "metadata": {},
   "source": [
    "summary:\n",
    "From the above result car column has huge number of value missing. It has more that 99% missing values.\n",
    " So, since this column has a huge number of missing values, it is quite had to fill it and give to machine. probablly,the result will affect by this decision. The good idea is its better to drop the column.\n",
    " \n",
    " The other columns such as Bar,coffeeHouse,CarryAway,RestaurantLessThan20,Restaurant20To50 each column has below 2% missing values. Better to keep and fill them. But, important question think what to fill.  "
   ]
  },
  {
   "cell_type": "markdown",
   "metadata": {},
   "source": [
    "3. # Decide what to do about your missing data -- drop, replace, other..."
   ]
  },
  {
   "cell_type": "code",
   "execution_count": null,
   "metadata": {},
   "outputs": [],
   "source": [
    "# graping datasets than contains onlt either 'never','less1','1~3','4~8', or 'gt8' for bar column\n",
    "Bar_never=data.loc[data['Bar'].str.contains('never',na=False)]\n",
    "Bar_less1=data.loc[data['Bar'].str.contains('less1',na=False)]\n",
    "Bar_b13=data.loc[data['Bar'].str.contains('1~3',na=False)]\n",
    "Bar_b48=data.loc[data['Bar'].str.contains('4~8',na=False)]\n",
    "Bar_gt8=data.loc[data['Bar'].str.contains('gt8',na=False)]"
   ]
  },
  {
   "cell_type": "code",
   "execution_count": null,
   "metadata": {
    "scrolled": true
   },
   "outputs": [],
   "source": [
    "# lets start to fill the Bar \n",
    "# lets see first the unique of the data\n",
    "print('Number of unique of a Bar:\\n',data['Bar'].unique()) \n",
    "print('\\n')\n",
    "print('Total values for each unique: \\n',data['Bar'].value_counts())\n",
    "print('\\n')\n",
    "print('the number of missing data of a Bar:\\n', data['Bar'].isnull().sum())\n",
    "\n",
    "#this process can go to all others that has a missing value"
   ]
  },
  {
   "cell_type": "code",
   "execution_count": null,
   "metadata": {},
   "outputs": [],
   "source": [
    "#Look at the Bar data set what to fill the missing value. \n",
    "#since in the of case \"Bar\", 'never' has the highest value, I will fill the missing with 'never'\n",
    "data['Bar'].fillna(data['Bar'].value_counts().idxmax(), inplace=True)"
   ]
  },
  {
   "cell_type": "code",
   "execution_count": null,
   "metadata": {},
   "outputs": [],
   "source": [
    "# for the CoffeeHouse,CarryAway,RestaurantLessThan20, and Restaurant20To50 \n",
    "data['CoffeeHouse'].fillna(data['CoffeeHouse'].value_counts().idxmax(), inplace=True) \n",
    "data['CarryAway'].fillna(data['CarryAway'].value_counts().idxmax(), inplace=True) \n",
    "data['RestaurantLessThan20'].fillna(data['RestaurantLessThan20'].value_counts().idxmax(), inplace=True) \n",
    "data['Restaurant20To50'].fillna(data['Restaurant20To50'].value_counts().idxmax(), inplace=True) "
   ]
  },
  {
   "cell_type": "code",
   "execution_count": null,
   "metadata": {},
   "outputs": [],
   "source": [
    "data.isnull().sum()"
   ]
  },
  {
   "cell_type": "code",
   "execution_count": null,
   "metadata": {},
   "outputs": [],
   "source": [
    "# Last the Car column, \n",
    "\n",
    "# The Car column has a huge number of missing values. Which 12576 or 99.15% values are missing. I highly sujjested that to drop\n",
    "#it than to fill it.\n",
    "\n",
    "data.drop('car', axis=1, inplace=True)"
   ]
  },
  {
   "cell_type": "code",
   "execution_count": null,
   "metadata": {
    "scrolled": false
   },
   "outputs": [],
   "source": [
    "data.isnull().sum()"
   ]
  },
  {
   "cell_type": "markdown",
   "metadata": {},
   "source": [
    "Finally, we have a clean dataset after I applied a fillna and drop function, to fill if the missing values of the column are\n",
    "small pecentage and drop if large percentage"
   ]
  },
  {
   "cell_type": "markdown",
   "metadata": {},
   "source": [
    "# Extra exploratory data analysis and Data Visualization"
   ]
  },
  {
   "cell_type": "code",
   "execution_count": null,
   "metadata": {},
   "outputs": [],
   "source": [
    "sns.pairplot(data)"
   ]
  },
  {
   "cell_type": "markdown",
   "metadata": {},
   "source": [
    "The pairplot gives us some dataset relationship that has only a numeric value."
   ]
  },
  {
   "cell_type": "code",
   "execution_count": null,
   "metadata": {},
   "outputs": [],
   "source": [
    "fig =plt.figure(figsize=(10,8))\n",
    "sns.heatmap(data.corr(), annot=True, cmap='Greens', linewidths=5, linecolor='white')\n",
    "#sns.color_palette(\"flare\", as_cmap=True)"
   ]
  },
  {
   "cell_type": "markdown",
   "metadata": {},
   "source": [
    "From the seaborn heatmap, there is no strong relationship between the columns that have a numeric values. "
   ]
  },
  {
   "cell_type": "code",
   "execution_count": null,
   "metadata": {},
   "outputs": [],
   "source": [
    "data.columns"
   ]
  },
  {
   "cell_type": "code",
   "execution_count": null,
   "metadata": {},
   "outputs": [],
   "source": [
    "sns.jointplot(data=data, x =\"toCoupon_GEQ5min\",y='Y', kind='hex')"
   ]
  },
  {
   "cell_type": "code",
   "execution_count": null,
   "metadata": {
    "scrolled": true
   },
   "outputs": [],
   "source": [
    "px.scatter(data_frame=data, x ='temperature', y= 'toCoupon_GEQ5min', marginal_x='histogram', marginal_y='histogram')"
   ]
  },
  {
   "cell_type": "markdown",
   "metadata": {},
   "source": [
    "# Count each unique of the column using \n",
    "\n",
    "value_counts() function \n",
    "\n",
    "Lets discore what are the total number of coupons are accepted or \n",
    "             what are the total number of coupons are rejected from the total amount provided from Amazon"
   ]
  },
  {
   "cell_type": "code",
   "execution_count": null,
   "metadata": {},
   "outputs": [],
   "source": [
    "# to know the total number of customers has accepted or rejected\n",
    "\n",
    "data['Y'].value_counts()"
   ]
  },
  {
   "cell_type": "code",
   "execution_count": null,
   "metadata": {},
   "outputs": [],
   "source": [
    "# lets see this on graph\n",
    "fig=plt.figure()\n",
    "plt.bar(data['Y'].unique(),data['Y'].value_counts(), color='blue', width=0.5, edgecolor='black')\n",
    "plt.xlabel('Y-coupon')\n",
    "plt.ylabel('Y-value counts')\n",
    "plt.title('Total number of customers who has accepted or rejected coupon', color='purple')\n",
    "fig.show()"
   ]
  },
  {
   "cell_type": "code",
   "execution_count": null,
   "metadata": {},
   "outputs": [],
   "source": [
    "#Calulating tota numbers of customers whop has accepted and rejected in percentage\n",
    "print('The total percentage of customers who accepted the coupn is %.2f%%' %(data['Y'].value_counts()[1]/data.shape[0]*100))\n",
    "print('The total percentage of customers who rejected the coupn is %.2f%%' %(data['Y'].value_counts()[0]/data.shape[0]*100))\n"
   ]
  },
  {
   "cell_type": "markdown",
   "metadata": {},
   "source": [
    "So, from the above bar graph and total percentage ratio calculation, I have concluded the from the total number of coupons amazon had sent, more 56% were accepted by the customers and under 43% are rejected. \n",
    "\n",
    "Conclusion: Amazon still have known that a higher numbers of coupons had accepted"
   ]
  },
  {
   "cell_type": "code",
   "execution_count": null,
   "metadata": {
    "scrolled": true
   },
   "outputs": [],
   "source": [
    "data.head()"
   ]
  },
  {
   "cell_type": "markdown",
   "metadata": {},
   "source": [
    "4. # What proportion of the total observations chose to accept the coupon? \n",
    "\n"
   ]
  },
  {
   "cell_type": "code",
   "execution_count": null,
   "metadata": {},
   "outputs": [],
   "source": [
    "data_only_acceted_coupon=data.loc[data['Y']==1]"
   ]
  },
  {
   "cell_type": "code",
   "execution_count": null,
   "metadata": {},
   "outputs": [],
   "source": [
    "print(data_only_acceted_coupon.shape)\n",
    "print('\\n')\n",
    "# from the total observations, the proportion of accepted coupons \n",
    "print(data['Y'].value_counts()[1]/data.shape[0])\n",
    "print('\\n')\n",
    "# Total percentage accepted coupons\n",
    "print(f'The total percentage of customers who accepted the coupn is %.2f%%' %(data['Y'].value_counts()[1]/data.shape[0]*100))"
   ]
  },
  {
   "cell_type": "markdown",
   "metadata": {},
   "source": [
    "Summary: from the total survey, 7210 coupons were accpted. This is 56.84% from the total coupons are accepted."
   ]
  },
  {
   "cell_type": "markdown",
   "metadata": {},
   "source": [
    "5. # Use a bar plot to visualize the `coupon` column."
   ]
  },
  {
   "cell_type": "code",
   "execution_count": null,
   "metadata": {},
   "outputs": [],
   "source": [
    "#showing total number of coupons provided by amazon\n",
    "print('Total number of coupons provided by Amazon are:', data['coupon'].nunique())\n",
    "print('\\n')\n",
    "print('list of all coupons \\n',data['coupon'].unique())"
   ]
  },
  {
   "cell_type": "code",
   "execution_count": null,
   "metadata": {},
   "outputs": [],
   "source": [
    "#total values of each coupons\n",
    "data['coupon'].value_counts()"
   ]
  },
  {
   "cell_type": "code",
   "execution_count": null,
   "metadata": {
    "scrolled": true
   },
   "outputs": [],
   "source": [
    "#a plotly for each coupons \n",
    "arranged_coupons=['Coffee House','Restaurant(<20)', 'Carry out & Take away', 'Bar', 'Restaurant(20-50)']\n",
    "px.bar(x=arranged_coupons, y=data['coupon'].value_counts(),title='bar plot to visualize the coupon column')"
   ]
  },
  {
   "cell_type": "code",
   "execution_count": null,
   "metadata": {
    "scrolled": true
   },
   "outputs": [],
   "source": [
    "#matplotlib of each coupons\n",
    "arranged_coupons=['Coffee House','Restaurant(<20)', 'Carry out & Take away', 'Bar', 'Restaurant(20-50)']\n",
    "plt.bar(arranged_coupons,data['coupon'].value_counts())\n",
    "plt.xlabel('Coupons')\n",
    "plt.ylabel('Its values')\n",
    "plt.title('bar plot to visualize the coupon column')\n",
    "plt.xticks(rotation=45)"
   ]
  },
  {
   "cell_type": "code",
   "execution_count": null,
   "metadata": {
    "scrolled": true
   },
   "outputs": [],
   "source": [
    "#percentage of acceptance for each coupons \n",
    "print('The percentage of coupons accepted from coffee house is %.2f%%' %(data['coupon'].value_counts()[0]/data.shape[0]*100),)\n",
    "print('The percentage of coupons accepted from Restaurant(<20) is %.2f%%' %(data['coupon'].value_counts()[1]/data.shape[0]*100),)\n",
    "print('The percentage of coupons accepted from Carry out & Take away is %.2f%%' %(data['coupon'].value_counts()[2]/data.shape[0]*100),)\n",
    "print('The percentage of coupons accepted from bar is %.2f%%' %(data['coupon'].value_counts()[3]/data.shape[0]*100),)\n",
    "print('The percentage coupons accepted from Restaurant(20-50) is %.2f%%' %(data['coupon'].value_counts()[4]/data.shape[0]*100))"
   ]
  },
  {
   "cell_type": "markdown",
   "metadata": {},
   "source": [
    "Summary: \n",
    "\n",
    "From the given survey data, the coffee house get higher number of coupon acceptance compare to the others, \n",
    "with 31.50% acceptance and Restaurant(20-50) get low number of coupon acceptance.\n",
    "\n",
    "So, amazon can aware that most number of customers love coupons from the coffee house. It is good to send more a coffee house coupon than the others."
   ]
  },
  {
   "cell_type": "markdown",
   "metadata": {},
   "source": [
    "6. # Use a histogram to visualize the temperature column."
   ]
  },
  {
   "cell_type": "code",
   "execution_count": null,
   "metadata": {},
   "outputs": [],
   "source": [
    "#number of uniques and its corresponding values for the temeperature column\n",
    "data['temperature'].unique()\n",
    "data['temperature'].value_counts()"
   ]
  },
  {
   "cell_type": "code",
   "execution_count": null,
   "metadata": {},
   "outputs": [],
   "source": [
    "#a seaborn of temperature column\n",
    "sns.histplot(data=data, x ='temperature')\n",
    "plt.xlabel('Temperature')\n",
    "plt.ylabel(\"It's Count\")\n",
    "plt.title('Temperature Histogram')"
   ]
  },
  {
   "cell_type": "raw",
   "metadata": {},
   "source": [
    "Summary: 6528 from the total survey coupons were sent at a temperatur of 80, 3840 were at 55 and rest were sent at a temperature of 30."
   ]
  },
  {
   "cell_type": "code",
   "execution_count": null,
   "metadata": {},
   "outputs": [],
   "source": [
    "data[data['temperature']==80]['Y'].value_counts()\n",
    "data[data['temperature']==80]['Y'].value_counts()/data['temperature'].value_counts()[80]*100"
   ]
  },
  {
   "cell_type": "raw",
   "metadata": {},
   "source": [
    "Summary: From the total coupon have sent at 80 temperature, more 60 percent have accepted and rest rejected"
   ]
  },
  {
   "cell_type": "code",
   "execution_count": null,
   "metadata": {},
   "outputs": [],
   "source": [
    "data[data['temperature']==55]['Y'].value_counts()\n",
    "data[data['temperature']==55]['Y'].value_counts()/data['temperature'].value_counts()[55]*100"
   ]
  },
  {
   "cell_type": "markdown",
   "metadata": {},
   "source": [
    "Summary: From the total coupon have sent at 55 temperature, more 53 percent have accepted and rest rejected"
   ]
  },
  {
   "cell_type": "code",
   "execution_count": null,
   "metadata": {},
   "outputs": [],
   "source": [
    "data[data['temperature']==30]['Y'].value_counts()\n",
    "data[data['temperature']==30]['Y'].value_counts()/data['temperature'].value_counts()[30]*100"
   ]
  },
  {
   "cell_type": "markdown",
   "metadata": {},
   "source": [
    "Summary: From the total coupon have sent at30 temperature, more 53 percent have accepted and rest rejected"
   ]
  },
  {
   "cell_type": "markdown",
   "metadata": {},
   "source": [
    "# Investigating the Bar Coupons**\n",
    "\n",
    "Now, we will lead you through an exploration of just the bar related coupons.  "
   ]
  },
  {
   "cell_type": "markdown",
   "metadata": {},
   "source": [
    "# 1. Create a new `DataFrame` that contains just the bar coupons."
   ]
  },
  {
   "cell_type": "code",
   "execution_count": null,
   "metadata": {
    "scrolled": true
   },
   "outputs": [],
   "source": [
    "data.sample(10)"
   ]
  },
  {
   "cell_type": "code",
   "execution_count": null,
   "metadata": {},
   "outputs": [],
   "source": [
    "# graping coupon uniques\n",
    "data['coupon'].unique()"
   ]
  },
  {
   "cell_type": "code",
   "execution_count": null,
   "metadata": {
    "scrolled": false
   },
   "outputs": [],
   "source": [
    "# graping all rows that contains \"Bar\" by using .str.contains function\n",
    "bar_coupon=data.loc[data['coupon'].str.contains('Bar',na=False)]\n",
    "bar_coupon.head()"
   ]
  },
  {
   "cell_type": "code",
   "execution_count": null,
   "metadata": {},
   "outputs": [],
   "source": [
    "# Total bar coupons sent to the drivers from the entire survey given\n",
    "bar_coupon.shape"
   ]
  },
  {
   "cell_type": "code",
   "execution_count": null,
   "metadata": {},
   "outputs": [],
   "source": [
    "# accepted bar coupon\n",
    "bar_coupon.loc[bar_coupon['Y']==1].shape"
   ]
  },
  {
   "cell_type": "markdown",
   "metadata": {},
   "source": [
    "# 2. What proportion of bar coupons were accepted?\n"
   ]
  },
  {
   "cell_type": "code",
   "execution_count": null,
   "metadata": {},
   "outputs": [],
   "source": [
    "#creating a finction that calculate the ratio of bar coupons to the total bar coupon offers\n",
    "def proportion_bar_coupon(data1,data2):\n",
    "    \n",
    "    return data2.shape[0]/data1.shape[0]"
   ]
  },
  {
   "cell_type": "code",
   "execution_count": null,
   "metadata": {},
   "outputs": [],
   "source": [
    "proportion_bar_coupon(bar_coupon,bar_coupon.loc[bar_coupon['Y']==1])"
   ]
  },
  {
   "cell_type": "markdown",
   "metadata": {},
   "source": [
    "Summary: 0.41 fron the total survey of a Bar coupon where accepted. We conculed that more 59% of the bar coupons were rejected. "
   ]
  },
  {
   "cell_type": "markdown",
   "metadata": {},
   "source": [
    "# 3. Compare the acceptance rate between those who went to a bar 3 or fewer times a month to those who went more.\n"
   ]
  },
  {
   "cell_type": "code",
   "execution_count": null,
   "metadata": {},
   "outputs": [],
   "source": [
    "# graping bar uniques\n",
    "data['Bar'].unique()"
   ]
  },
  {
   "cell_type": "code",
   "execution_count": null,
   "metadata": {},
   "outputs": [],
   "source": [
    "#bar total number of rows and columns\n",
    "data['Bar'].shape"
   ]
  },
  {
   "cell_type": "code",
   "execution_count": null,
   "metadata": {},
   "outputs": [],
   "source": [
    "#counting a value for each uniques of bar coupons\n",
    "data['Bar'].value_counts()"
   ]
  },
  {
   "cell_type": "code",
   "execution_count": null,
   "metadata": {},
   "outputs": [],
   "source": [
    "#creating a list that contains drivers went to the bar 3 or fewer times a month and who went more repectively\n",
    "driver_go_bar_lthan3_list=['never', 'less1', '1~3']\n",
    "driver_go_bar_mthan4_list=['4~8','gt8']"
   ]
  },
  {
   "cell_type": "code",
   "execution_count": null,
   "metadata": {
    "scrolled": false
   },
   "outputs": [],
   "source": [
    "#use a query to get the darFrame of drivers went to the bar 3 or fewer times a month and who went more repectively\n",
    "query_driver_go_bar_lthan3=bar_coupon.query('Bar in @driver_go_bar_lthan3_list')\n",
    "query_driver_go_bar_mthan4=bar_coupon.query('Bar in @driver_go_bar_mthan4_list')"
   ]
  },
  {
   "cell_type": "code",
   "execution_count": null,
   "metadata": {},
   "outputs": [],
   "source": [
    "#total number of coupons accepted by those who went to bar less than 3 or fever\n",
    "# and those who went to bar more times\n",
    "print('Total number of bar coupons accepted by those who went to bar less than 3 or fever is: {}'.format(query_driver_go_bar_lthan3.loc[query_driver_go_bar_lthan3['Y']==1].shape[0]))\n",
    "print('Total number of bar coupons accepted by those who went to bar more times is: {}'.format(query_driver_go_bar_mthan4.loc[query_driver_go_bar_mthan4['Y']==1].shape[0]))"
   ]
  },
  {
   "cell_type": "code",
   "execution_count": null,
   "metadata": {},
   "outputs": [],
   "source": [
    "#total number of coupons rejected by those who went to bar less than 3 or fever\n",
    "# and those who went to bar more times\n",
    "print('Total number of bar coupons rejected by those who went to bar less than 3 or fever is: {}'.format(query_driver_go_bar_lthan3.loc[query_driver_go_bar_lthan3['Y']==0].shape[0]))\n",
    "print('Total number of bar coupons rejected by those who went to bar more times is: {}'.format(query_driver_go_bar_mthan4.loc[query_driver_go_bar_mthan4['Y']==0].shape[0]))"
   ]
  },
  {
   "cell_type": "code",
   "execution_count": null,
   "metadata": {},
   "outputs": [],
   "source": [
    "# acceptance rate of bar coupons by those who went to bar less than 3 or fever to\n",
    "# 'Total number of bar coupons accepted by those who went to bar more times\n",
    "def compare_acceptance_rate(data1,data2):\n",
    "    return data2.shape[0]/data1.shape[0]"
   ]
  },
  {
   "cell_type": "code",
   "execution_count": null,
   "metadata": {},
   "outputs": [],
   "source": [
    "dataquery1=query_driver_go_bar_lthan3.loc[query_driver_go_bar_lthan3['Y']==1]\n",
    "dataquery2=query_driver_go_bar_mthan4.loc[query_driver_go_bar_mthan4['Y']==1]\n",
    "compare_acceptance_rate(dataquery1,dataquery2)"
   ]
  },
  {
   "cell_type": "markdown",
   "metadata": {},
   "source": [
    "Summary:Total number of bar coupons accepted by those who went to bar less than 3 or fewer is 6323 and Total number of bar coupons accepted by those who went to bar more times is 887. So, more 12% coupons where accepted by  those who went to bar less than 3 or fever than those who went to bar more times"
   ]
  },
  {
   "cell_type": "markdown",
   "metadata": {},
   "source": [
    "# 4. Compare the acceptance rate between drivers who go to a bar more than once a month and are over the age of 25 to the all others.  Is there a difference?\n"
   ]
  },
  {
   "cell_type": "code",
   "execution_count": null,
   "metadata": {
    "scrolled": true
   },
   "outputs": [],
   "source": [
    "#creating a list that contains drivers went to the bar less than one and more than one\n",
    "drivers_go_bar_lthan_once_list=['never','less1']\n",
    "drivers_go_bar_mthan_once_list=['1~3','4~8','gt8']"
   ]
  },
  {
   "cell_type": "code",
   "execution_count": null,
   "metadata": {},
   "outputs": [],
   "source": [
    "#use .isin() function to get the darFrame of drivers who went more once and are over the age of 25 #\n",
    "\n",
    "#drivers who went more once\n",
    "drivers_go_bar_mthan_once= bar_coupon.loc[bar_coupon['Bar'].isin(drivers_go_bar_mthan_once_list)]\n",
    "drivers_go_bar_mthan_once=drivers_go_bar_mthan_once[drivers_go_bar_mthan_once['Y']==1]\n",
    "\n",
    "#over the age of 25\n",
    "drivers_go_bar_mthan_once_and_gt25=drivers_go_bar_mthan_once[drivers_go_bar_mthan_once['age']>'25']\n",
    "drivers_go_bar_mthan_once_and_gt25.shape[0]"
   ]
  },
  {
   "cell_type": "code",
   "execution_count": null,
   "metadata": {},
   "outputs": [],
   "source": [
    "#use .isin() function to get the darFrame of drivers went to the bar less than once\n",
    "drivers_go_bar_lthan_once=bar_coupon.loc[bar_coupon['Bar'].isin(drivers_go_bar_lthan_once_list)]\n",
    "drivers_go_bar_lthan_once=drivers_go_bar_lthan_once[drivers_go_bar_lthan_once['Y']==1]\n",
    "drivers_go_bar_lthan_once.shape[0]"
   ]
  },
  {
   "cell_type": "code",
   "execution_count": null,
   "metadata": {
    "scrolled": true
   },
   "outputs": [],
   "source": [
    "#acceptance rate between drivers who go to a bar more than once a month and are over the age of 25 \n",
    "#to the all others is\n",
    "drivers_go_bar_mthan_once_and_gt25.shape[0]/drivers_go_bar_lthan_once.shape[0]*100"
   ]
  },
  {
   "cell_type": "markdown",
   "metadata": {},
   "source": [
    "Summary: More 70% of the bar coupons are accepted by those who go to the bar less than one than drivers who go to a bar more than once a month and are over the age of 25. "
   ]
  },
  {
   "cell_type": "markdown",
   "metadata": {},
   "source": [
    "# 5. Use the same process to compare the acceptance rate between drivers who go to bars more than once a month and had passengers that were not a kid and had occupations other than farming, fishing, or forestry. \n"
   ]
  },
  {
   "cell_type": "code",
   "execution_count": null,
   "metadata": {},
   "outputs": [],
   "source": [
    "#compare_passenger_withoutkids=\n",
    "drivers_go_bar_mthan_once=['1~3','4~8','gt8']\n",
    "drivers_go_bar_mthan_once=bar_coupon.loc[bar_coupon['Bar'].isin(drivers_go_bar_mthan_once)]"
   ]
  },
  {
   "cell_type": "code",
   "execution_count": null,
   "metadata": {},
   "outputs": [],
   "source": [
    "#list of passengers went to bar with out kids\n",
    "list_passenger_withoutkids=['Alone','Friend(s)','Partner']\n",
    "\n",
    "#list occupations other than farming, fishing, or forestry.\n",
    "occupation_list=['Unemployed', 'Architecture & Engineering', 'Student',\n",
    "       'Education&Training&Library', 'Healthcare Support',\n",
    "       'Healthcare Practitioners & Technical', 'Sales & Related',\n",
    "       'Management', 'Arts Design Entertainment Sports & Media',\n",
    "       'Computer & Mathematical', 'Life Physical Social Science',\n",
    "       'Personal Care & Service', 'Community & Social Services',\n",
    "       'Office & Administrative Support', 'Construction & Extraction',\n",
    "       'Legal', 'Retired', 'Installation Maintenance & Repair',\n",
    "       'Transportation & Material Moving', 'Business & Financial',\n",
    "       'Protective Service', 'Food Preparation & Serving Related',\n",
    "       'Production Occupations',\n",
    "       'Building & Grounds Cleaning & Maintenance']"
   ]
  },
  {
   "cell_type": "code",
   "execution_count": null,
   "metadata": {},
   "outputs": [],
   "source": [
    "bar_passenger_withoutkids=drivers_go_bar_mthan_once.loc[drivers_go_bar_mthan_once['passanger'].isin(list_passenger_withoutkids)]\n",
    "bar_passenger_withoutkids.shape[0]"
   ]
  },
  {
   "cell_type": "code",
   "execution_count": null,
   "metadata": {},
   "outputs": [],
   "source": [
    "bar_occupations=bar_coupon.loc[bar_coupon['occupation'].isin(occupation_list)]\n",
    "bar_occupations.shape[0]"
   ]
  },
  {
   "cell_type": "code",
   "execution_count": null,
   "metadata": {},
   "outputs": [],
   "source": [
    "#comparsion ratio between drivers who go to bars more than once a month and had passengers that were not a kid \n",
    "# and had occupations other than farming, fishing, or forestry\n",
    "\n",
    "bar_passenger_withoutkids.shape[0]/bar_occupations.shape[0]*100"
   ]
  },
  {
   "cell_type": "markdown",
   "metadata": {},
   "source": [
    " Summary: More 27% drivers who had an occupations other than farming, fishing, or forestry than drivers who go to bars more than once a month and had passengers that were not a kid than\n",
    "          "
   ]
  },
  {
   "cell_type": "markdown",
   "metadata": {},
   "source": [
    "# 6. Compare the acceptance rates between those drivers who:\n",
    "\n",
    "- go to bars more than once a month, had passengers that were not a kid, and were not widowed *OR*\n",
    "- go to bars more than once a month and are under the age of 30 *OR*\n",
    "- go to cheap restaurants more than 4 times a month and income is less than 50K. \n",
    "\n"
   ]
  },
  {
   "cell_type": "code",
   "execution_count": null,
   "metadata": {
    "scrolled": true
   },
   "outputs": [],
   "source": [
    "# drivers go to bars more than once a month, had passengers that were not a kid, and were not widowed \n",
    "\n",
    "#drivers go to bars more than once a month\n",
    "drivers_go_bar_mthan_once_list=['1~3','4~8','gt8']\n",
    "drivers_go_bar_mthan_once= bar_coupon.loc[bar_coupon['Bar'].isin(drivers_go_bar_mthan_once_list)]\n",
    "drivers_go_bar_mthan_once=drivers_go_bar_mthan_once[drivers_go_bar_mthan_once['Y']==1]\n",
    "\n",
    "#drivers had passengers that were not a kid\n",
    "list_passenger_withoutkids=['Alone','Friend(s)','Partner']\n",
    "passenger_withoutkids_and_go_bar_mthan_once=drivers_go_bar_mthan_once.loc[drivers_go_bar_mthan_once['passanger'].isin(list_passenger_withoutkids)]\n",
    "\n",
    "#drivers were not widowed \n",
    "passenger_withoutkids_and_go_bar_mthan_once_maritalStatus_notwidowed=passenger_withoutkids_and_go_bar_mthan_once['maritalStatus']\n",
    "passenger_withoutkids_and_go_bar_mthan_once_maritalStatus_notwidowed.shape[0]"
   ]
  },
  {
   "cell_type": "code",
   "execution_count": null,
   "metadata": {},
   "outputs": [],
   "source": [
    "#drivers go to bars more than once a month and are under the age of 30 \n",
    "\n",
    "#drivers go to bars more than once a month\n",
    "drivers_go_bar_mthan_once_list=['1~3','4~8','gt8']\n",
    "drivers_go_bar_mthan_once= bar_coupon.loc[bar_coupon['Bar'].isin(drivers_go_bar_mthan_once_list)]\n",
    "drivers_go_bar_mthan_once=drivers_go_bar_mthan_once[drivers_go_bar_mthan_once['Y']==1]\n",
    "\n",
    "#under the age of 30\n",
    "drivers_go_bar_mthan_once_under_30=drivers_go_bar_mthan_once.loc[drivers_go_bar_mthan_once['age']<'30']\n",
    "drivers_go_bar_mthan_once_under_30.shape[0]\n"
   ]
  },
  {
   "cell_type": "code",
   "execution_count": null,
   "metadata": {},
   "outputs": [],
   "source": [
    "#drivers go to cheap restaurants more than 4 times a month and income is less than 50K\n",
    "\n",
    "#drivers go to cheap restaurants more than 4 times a month\n",
    "restaurant_mthan4_list=['4~8','gt8']\n",
    "drivers_go_restaurant_mthan4=bar_coupon.loc[bar_coupon['RestaurantLessThan20'].isin(restaurant_mthan4_list)]\n",
    "\n",
    "#income is less than 50K\n",
    "drivers_go_restaurant_mthan4_and_lthan50=drivers_go_restaurant_mthan4.loc[drivers_go_restaurant_mthan4['income']<'50000']\n",
    "drivers_go_restaurant_mthan4_and_lthan50.shape[0]"
   ]
  },
  {
   "cell_type": "markdown",
   "metadata": {},
   "source": [
    "Summary: A total number of drivers go to bars more than once a month, had passengers that were not a kid, and were not widowed are 393, total number of drivers go to bars more than once a month and are under the age of 30 are 245, and drivers go to cheap restaurants more than 4 times a month and income is less than 50K 681.\n",
    "\n",
    "Summary question 6:\n",
    "\n",
    "From the total survey, 2017 bar coupons were sent to the drivers. Only 827 or 41% from the bar coupons were accpted \n",
    "and more than 59% were rejected. From the total accepted bar coupons, 674 were accpted by drivers who went to bar less than 3 or fever and rest (153) accepted by drivers who went to bar more.\n",
    "\n",
    "drivers who went to bar more once and are over the age of 25 is 296 and drivers went to the bar less than once is 417. \n",
    "\n",
    "The total number acceptance drivers who go to bars more than once a month and had passengers that were not a kid is 551 and drivers who had occupations other than farming, fishing, or forestry 2008.\n",
    "\n",
    "The total number acceptance drivers who go to bars more than once a month, had passengers that were not a kid, and were not widowed is 393, who go to bars more than once a month and are under the age of 30 is 245, and who go to cheap restaurants more than 4 times a month and income is less than 50K 681.\n"
   ]
  },
  {
   "cell_type": "markdown",
   "metadata": {},
   "source": [
    "# 7.  Based on these observations, what do you hypothesize about drivers who accepted the bar coupons?"
   ]
  },
  {
   "cell_type": "markdown",
   "metadata": {},
   "source": [
    "Hypothesis:From the survey, more coupons were accpeted by drivers who went to the bar less than 3 or fewer.\n",
    "\n",
    "The total number acceptance drivers who go to bars more than once a month and had passengers that were not a kid is higher than same drivers who went to bar more once a month and are over the age of 25. Even more drivers with passenger no kid and widowed. \n",
    "\n"
   ]
  },
  {
   "cell_type": "markdown",
   "metadata": {},
   "source": [
    "# Independent Investigation\n",
    "\n",
    "Doea the weather affects the acceptance coupons?, Doea the gender affects acceptance coupons?,Does it a matter the direction of the driver or how far he/she? what about the temperature?"
   ]
  },
  {
   "cell_type": "code",
   "execution_count": null,
   "metadata": {
    "scrolled": true
   },
   "outputs": [],
   "source": [
    "#grabing bar coupon data\n",
    "data.head()"
   ]
  },
  {
   "cell_type": "code",
   "execution_count": null,
   "metadata": {},
   "outputs": [],
   "source": [
    "#lets choose one coupon and see if the above mentioned questions are affected to the acceptance rate or not\n",
    "\n",
    "#I choose restaurant Less than 20. Since I guess most drivers can accept the offer.But, lets see if they accpetd or not"
   ]
  },
  {
   "cell_type": "code",
   "execution_count": null,
   "metadata": {},
   "outputs": [],
   "source": [
    "data['coupon'].unique()\n",
    "data['coupon'].value_counts()"
   ]
  },
  {
   "cell_type": "code",
   "execution_count": null,
   "metadata": {
    "scrolled": true
   },
   "outputs": [],
   "source": [
    "RestaurantLessThan20_coupon=data.loc[data['coupon']=='Restaurant(<20)']\n",
    "RestaurantLessThan20_coupon"
   ]
  },
  {
   "cell_type": "code",
   "execution_count": null,
   "metadata": {},
   "outputs": [],
   "source": [
    "sns.barplot(data=RestaurantLessThan20_coupon, x ='gender', y='Y', hue='gender')"
   ]
  },
  {
   "cell_type": "code",
   "execution_count": null,
   "metadata": {},
   "outputs": [],
   "source": [
    "RestaurantLessThan20_coupon_only_accepted=RestaurantLessThan20_coupon[RestaurantLessThan20_coupon['Y']==1]\n",
    "RestaurantLessThan20_coupon_only_accepted.shape[0]"
   ]
  },
  {
   "cell_type": "code",
   "execution_count": null,
   "metadata": {},
   "outputs": [],
   "source": [
    "plt.bar(RestaurantLessThan20_coupon['Y'].unique(),RestaurantLessThan20_coupon['Y'].value_counts(), color='green')\n",
    "plt.xlabel(\"RestaurantLessThan20_coupon['Y'].unique\")\n",
    "plt.ylabel('counts')\n",
    "plt.title('accpeted coupons by RestaurantLessThan20')"
   ]
  },
  {
   "cell_type": "markdown",
   "metadata": {},
   "source": [
    "Summary: From the total number of RestaurantLessThan20 coupons (2786), 1970 where accepted. "
   ]
  },
  {
   "cell_type": "code",
   "execution_count": null,
   "metadata": {},
   "outputs": [],
   "source": [
    "# toCoupon_GEQ5min a 5 min is affected or not\n",
    "RestaurantLessThan20_coupon['toCoupon_GEQ25min'].unique()\n",
    "RestaurantLessThan20_coupon['toCoupon_GEQ25min'].value_counts()"
   ]
  },
  {
   "cell_type": "code",
   "execution_count": null,
   "metadata": {},
   "outputs": [],
   "source": [
    "px.bar(x=RestaurantLessThan20_coupon['toCoupon_GEQ25min'].unique(),y=RestaurantLessThan20_coupon['toCoupon_GEQ25min'].value_counts())"
   ]
  },
  {
   "cell_type": "code",
   "execution_count": null,
   "metadata": {},
   "outputs": [],
   "source": [
    "#weather affected or not\n",
    "RestaurantLessThan20_coupon['weather'].unique()\n",
    "RestaurantLessThan20_coupon['weather'].value_counts()"
   ]
  },
  {
   "cell_type": "code",
   "execution_count": null,
   "metadata": {
    "scrolled": true
   },
   "outputs": [],
   "source": [
    "RestaurantLessThan20_weather_sunny=RestaurantLessThan20_coupon[RestaurantLessThan20_coupon['weather']=='Sunny']\n",
    "RestaurantLessThan20_weather_sunny_accepted=RestaurantLessThan20_weather_sunny[RestaurantLessThan20_weather_sunny['Y']==1]\n",
    "RestaurantLessThan20_weather_sunny_accepted\n"
   ]
  },
  {
   "cell_type": "markdown",
   "metadata": {},
   "source": [
    "A 2240 RestaurantLessThan20 coupons where sent during the sunny time. From the total  1721 where accepted."
   ]
  },
  {
   "cell_type": "code",
   "execution_count": null,
   "metadata": {},
   "outputs": [],
   "source": [
    "data.iplot(kind='')"
   ]
  }
 ],
 "metadata": {
  "kernelspec": {
   "display_name": "Python 3 (ipykernel)",
   "language": "python",
   "name": "python3"
  },
  "language_info": {
   "codemirror_mode": {
    "name": "ipython",
    "version": 3
   },
   "file_extension": ".py",
   "mimetype": "text/x-python",
   "name": "python",
   "nbconvert_exporter": "python",
   "pygments_lexer": "ipython3",
   "version": "3.9.7"
  },
  "widgets": {
   "application/vnd.jupyter.widget-state+json": {
    "state": {},
    "version_major": 2,
    "version_minor": 0
   }
  }
 },
 "nbformat": 4,
 "nbformat_minor": 4
}
